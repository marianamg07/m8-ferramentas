{
 "cells": [
  {
   "cell_type": "markdown",
   "metadata": {},
   "source": [
    "### Base de dados\n",
    "\n",
    "Neste notebook vamos exemplificar como se pode pegar na informação que se extrai dos registos do Genbank e se insere num abase de dados.\n",
    "\n",
    "Nos exemplos seguintes faz-se o seguinte:\n",
    "- Cria-se um anova tabela em BD para receber os dados\n",
    "- Faz-se a extração de alguns dados do registo Genbank e inserem-se esses dados na tabela criada\n",
    "- Carrega-se o conteúdo da tabela de base de dados num tabela pandas.\n",
    "- Mostra-se um gráfico muito simples."
   ]
  },
  {
   "cell_type": "code",
   "execution_count": 39,
   "metadata": {},
   "outputs": [
    {
     "ename": "ProgrammingError",
     "evalue": "1050 (42S01): Table 'genbank_pg45472_' already exists",
     "output_type": "error",
     "traceback": [
      "\u001B[1;31m---------------------------------------------------------------------------\u001B[0m",
      "\u001B[1;31mProgrammingError\u001B[0m                          Traceback (most recent call last)",
      "Input \u001B[1;32mIn [39]\u001B[0m, in \u001B[0;36m<cell line: 22>\u001B[1;34m()\u001B[0m\n\u001B[0;32m     11\u001B[0m Cursor \u001B[38;5;241m=\u001B[39m DataBase\u001B[38;5;241m.\u001B[39mcursor()\n\u001B[0;32m     13\u001B[0m TableName \u001B[38;5;241m=\u001B[39m\u001B[38;5;124m\"\"\"\u001B[39m\u001B[38;5;124mCREATE TABLE genbank_pg45472_\u001B[39m\n\u001B[0;32m     14\u001B[0m \u001B[38;5;124m    (\u001B[39m\n\u001B[0;32m     15\u001B[0m \u001B[38;5;124m    locusid varchar(255) PRIMARY KEY, \u001B[39m\n\u001B[1;32m   (...)\u001B[0m\n\u001B[0;32m     19\u001B[0m \u001B[38;5;124m    );\u001B[39m\n\u001B[0;32m     20\u001B[0m \u001B[38;5;124m\"\"\"\u001B[39m\n\u001B[1;32m---> 22\u001B[0m \u001B[43mCursor\u001B[49m\u001B[38;5;241;43m.\u001B[39;49m\u001B[43mexecute\u001B[49m\u001B[43m(\u001B[49m\u001B[43mTableName\u001B[49m\u001B[43m)\u001B[49m\n",
      "File \u001B[1;32mc:\\users\\maryg\\pycharmprojects\\pythonproject\\venv\\lib\\site-packages\\mysql\\connector\\cursor.py:551\u001B[0m, in \u001B[0;36mMySQLCursor.execute\u001B[1;34m(self, operation, params, multi)\u001B[0m\n\u001B[0;32m    549\u001B[0m \u001B[38;5;28;01melse\u001B[39;00m:\n\u001B[0;32m    550\u001B[0m     \u001B[38;5;28;01mtry\u001B[39;00m:\n\u001B[1;32m--> 551\u001B[0m         \u001B[38;5;28mself\u001B[39m\u001B[38;5;241m.\u001B[39m_handle_result(\u001B[38;5;28;43mself\u001B[39;49m\u001B[38;5;241;43m.\u001B[39;49m\u001B[43m_connection\u001B[49m\u001B[38;5;241;43m.\u001B[39;49m\u001B[43mcmd_query\u001B[49m\u001B[43m(\u001B[49m\u001B[43mstmt\u001B[49m\u001B[43m)\u001B[49m)\n\u001B[0;32m    552\u001B[0m     \u001B[38;5;28;01mexcept\u001B[39;00m errors\u001B[38;5;241m.\u001B[39mInterfaceError:\n\u001B[0;32m    553\u001B[0m         \u001B[38;5;28;01mif\u001B[39;00m \u001B[38;5;28mself\u001B[39m\u001B[38;5;241m.\u001B[39m_connection\u001B[38;5;241m.\u001B[39m_have_next_result:  \u001B[38;5;66;03m# pylint: disable=W0212\u001B[39;00m\n",
      "File \u001B[1;32mc:\\users\\maryg\\pycharmprojects\\pythonproject\\venv\\lib\\site-packages\\mysql\\connector\\connection.py:490\u001B[0m, in \u001B[0;36mMySQLConnection.cmd_query\u001B[1;34m(self, query, raw, buffered, raw_as_string)\u001B[0m\n\u001B[0;32m    488\u001B[0m \u001B[38;5;28;01mif\u001B[39;00m \u001B[38;5;129;01mnot\u001B[39;00m \u001B[38;5;28misinstance\u001B[39m(query, \u001B[38;5;28mbytes\u001B[39m):\n\u001B[0;32m    489\u001B[0m     query \u001B[38;5;241m=\u001B[39m query\u001B[38;5;241m.\u001B[39mencode(\u001B[38;5;124m'\u001B[39m\u001B[38;5;124mutf-8\u001B[39m\u001B[38;5;124m'\u001B[39m)\n\u001B[1;32m--> 490\u001B[0m result \u001B[38;5;241m=\u001B[39m \u001B[38;5;28;43mself\u001B[39;49m\u001B[38;5;241;43m.\u001B[39;49m\u001B[43m_handle_result\u001B[49m\u001B[43m(\u001B[49m\u001B[38;5;28;43mself\u001B[39;49m\u001B[38;5;241;43m.\u001B[39;49m\u001B[43m_send_cmd\u001B[49m\u001B[43m(\u001B[49m\u001B[43mServerCmd\u001B[49m\u001B[38;5;241;43m.\u001B[39;49m\u001B[43mQUERY\u001B[49m\u001B[43m,\u001B[49m\u001B[43m \u001B[49m\u001B[43mquery\u001B[49m\u001B[43m)\u001B[49m\u001B[43m)\u001B[49m\n\u001B[0;32m    492\u001B[0m \u001B[38;5;28;01mif\u001B[39;00m \u001B[38;5;28mself\u001B[39m\u001B[38;5;241m.\u001B[39m_have_next_result:\n\u001B[0;32m    493\u001B[0m     \u001B[38;5;28;01mraise\u001B[39;00m errors\u001B[38;5;241m.\u001B[39mInterfaceError(\n\u001B[0;32m    494\u001B[0m         \u001B[38;5;124m'\u001B[39m\u001B[38;5;124mUse cmd_query_iter for statements with multiple queries.\u001B[39m\u001B[38;5;124m'\u001B[39m)\n",
      "File \u001B[1;32mc:\\users\\maryg\\pycharmprojects\\pythonproject\\venv\\lib\\site-packages\\mysql\\connector\\connection.py:395\u001B[0m, in \u001B[0;36mMySQLConnection._handle_result\u001B[1;34m(self, packet)\u001B[0m\n\u001B[0;32m    393\u001B[0m     \u001B[38;5;28;01mreturn\u001B[39;00m \u001B[38;5;28mself\u001B[39m\u001B[38;5;241m.\u001B[39m_handle_eof(packet)\n\u001B[0;32m    394\u001B[0m \u001B[38;5;28;01melif\u001B[39;00m packet[\u001B[38;5;241m4\u001B[39m] \u001B[38;5;241m==\u001B[39m \u001B[38;5;241m255\u001B[39m:\n\u001B[1;32m--> 395\u001B[0m     \u001B[38;5;28;01mraise\u001B[39;00m errors\u001B[38;5;241m.\u001B[39mget_exception(packet)\n\u001B[0;32m    397\u001B[0m \u001B[38;5;66;03m# We have a text result set\u001B[39;00m\n\u001B[0;32m    398\u001B[0m column_count \u001B[38;5;241m=\u001B[39m \u001B[38;5;28mself\u001B[39m\u001B[38;5;241m.\u001B[39m_protocol\u001B[38;5;241m.\u001B[39mparse_column_count(packet)\n",
      "\u001B[1;31mProgrammingError\u001B[0m: 1050 (42S01): Table 'genbank_pg45472_' already exists"
     ]
    }
   ],
   "source": [
    "#pip install mysql-connector\n",
    "\n",
    "import mysql.connector as SQLC\n",
    "\n",
    "DataBase = SQLC.connect(\n",
    "   host =\"geo.di.uminho.pt\",\n",
    "   user =\"bioinformatica\",\n",
    "   password =\"20221207\",\n",
    "    database =\"bioinformatica\"\n",
    ")\n",
    "Cursor = DataBase.cursor()\n",
    "\n",
    "TableName =\"\"\"CREATE TABLE genbank_pg45472_\n",
    "    (\n",
    "    locusid varchar(255) PRIMARY KEY, \n",
    "    dnasource text, \n",
    "    dnasequence LONGTEXT,\n",
    "    prot text\n",
    "    );\n",
    "\"\"\"\n",
    "\n",
    "Cursor.execute(TableName)"
   ]
  },
  {
   "cell_type": "code",
   "execution_count": 41,
   "outputs": [
    {
     "ename": "ProgrammingError",
     "evalue": "1064 (42000): You have an error in your SQL syntax; check the manual that corresponds to your MySQL server version for the right syntax to use near '(\n    locusid varchar(255) PRIMARY KEY,\n    dnasource text,\n    dnasequence LONG' at line 2",
     "output_type": "error",
     "traceback": [
      "\u001B[1;31m---------------------------------------------------------------------------\u001B[0m",
      "\u001B[1;31mProgrammingError\u001B[0m                          Traceback (most recent call last)",
      "Input \u001B[1;32mIn [41]\u001B[0m, in \u001B[0;36m<cell line: 20>\u001B[1;34m()\u001B[0m\n\u001B[0;32m      9\u001B[0m Cursor \u001B[38;5;241m=\u001B[39m DataBase\u001B[38;5;241m.\u001B[39mcursor()\n\u001B[0;32m     11\u001B[0m TableName \u001B[38;5;241m=\u001B[39m\u001B[38;5;124m\"\"\"\u001B[39m\u001B[38;5;124m DROP TABLE genbank_pg45472\u001B[39m\n\u001B[0;32m     12\u001B[0m \u001B[38;5;124m    (\u001B[39m\n\u001B[0;32m     13\u001B[0m \u001B[38;5;124m    locusid varchar(255) PRIMARY KEY,\u001B[39m\n\u001B[1;32m   (...)\u001B[0m\n\u001B[0;32m     17\u001B[0m \u001B[38;5;124m    );\u001B[39m\n\u001B[0;32m     18\u001B[0m \u001B[38;5;124m\"\"\"\u001B[39m\n\u001B[1;32m---> 20\u001B[0m \u001B[43mCursor\u001B[49m\u001B[38;5;241;43m.\u001B[39;49m\u001B[43mexecute\u001B[49m\u001B[43m(\u001B[49m\u001B[43mTableName\u001B[49m\u001B[43m)\u001B[49m\n",
      "File \u001B[1;32mc:\\users\\maryg\\pycharmprojects\\pythonproject\\venv\\lib\\site-packages\\mysql\\connector\\cursor.py:551\u001B[0m, in \u001B[0;36mMySQLCursor.execute\u001B[1;34m(self, operation, params, multi)\u001B[0m\n\u001B[0;32m    549\u001B[0m \u001B[38;5;28;01melse\u001B[39;00m:\n\u001B[0;32m    550\u001B[0m     \u001B[38;5;28;01mtry\u001B[39;00m:\n\u001B[1;32m--> 551\u001B[0m         \u001B[38;5;28mself\u001B[39m\u001B[38;5;241m.\u001B[39m_handle_result(\u001B[38;5;28;43mself\u001B[39;49m\u001B[38;5;241;43m.\u001B[39;49m\u001B[43m_connection\u001B[49m\u001B[38;5;241;43m.\u001B[39;49m\u001B[43mcmd_query\u001B[49m\u001B[43m(\u001B[49m\u001B[43mstmt\u001B[49m\u001B[43m)\u001B[49m)\n\u001B[0;32m    552\u001B[0m     \u001B[38;5;28;01mexcept\u001B[39;00m errors\u001B[38;5;241m.\u001B[39mInterfaceError:\n\u001B[0;32m    553\u001B[0m         \u001B[38;5;28;01mif\u001B[39;00m \u001B[38;5;28mself\u001B[39m\u001B[38;5;241m.\u001B[39m_connection\u001B[38;5;241m.\u001B[39m_have_next_result:  \u001B[38;5;66;03m# pylint: disable=W0212\u001B[39;00m\n",
      "File \u001B[1;32mc:\\users\\maryg\\pycharmprojects\\pythonproject\\venv\\lib\\site-packages\\mysql\\connector\\connection.py:490\u001B[0m, in \u001B[0;36mMySQLConnection.cmd_query\u001B[1;34m(self, query, raw, buffered, raw_as_string)\u001B[0m\n\u001B[0;32m    488\u001B[0m \u001B[38;5;28;01mif\u001B[39;00m \u001B[38;5;129;01mnot\u001B[39;00m \u001B[38;5;28misinstance\u001B[39m(query, \u001B[38;5;28mbytes\u001B[39m):\n\u001B[0;32m    489\u001B[0m     query \u001B[38;5;241m=\u001B[39m query\u001B[38;5;241m.\u001B[39mencode(\u001B[38;5;124m'\u001B[39m\u001B[38;5;124mutf-8\u001B[39m\u001B[38;5;124m'\u001B[39m)\n\u001B[1;32m--> 490\u001B[0m result \u001B[38;5;241m=\u001B[39m \u001B[38;5;28;43mself\u001B[39;49m\u001B[38;5;241;43m.\u001B[39;49m\u001B[43m_handle_result\u001B[49m\u001B[43m(\u001B[49m\u001B[38;5;28;43mself\u001B[39;49m\u001B[38;5;241;43m.\u001B[39;49m\u001B[43m_send_cmd\u001B[49m\u001B[43m(\u001B[49m\u001B[43mServerCmd\u001B[49m\u001B[38;5;241;43m.\u001B[39;49m\u001B[43mQUERY\u001B[49m\u001B[43m,\u001B[49m\u001B[43m \u001B[49m\u001B[43mquery\u001B[49m\u001B[43m)\u001B[49m\u001B[43m)\u001B[49m\n\u001B[0;32m    492\u001B[0m \u001B[38;5;28;01mif\u001B[39;00m \u001B[38;5;28mself\u001B[39m\u001B[38;5;241m.\u001B[39m_have_next_result:\n\u001B[0;32m    493\u001B[0m     \u001B[38;5;28;01mraise\u001B[39;00m errors\u001B[38;5;241m.\u001B[39mInterfaceError(\n\u001B[0;32m    494\u001B[0m         \u001B[38;5;124m'\u001B[39m\u001B[38;5;124mUse cmd_query_iter for statements with multiple queries.\u001B[39m\u001B[38;5;124m'\u001B[39m)\n",
      "File \u001B[1;32mc:\\users\\maryg\\pycharmprojects\\pythonproject\\venv\\lib\\site-packages\\mysql\\connector\\connection.py:395\u001B[0m, in \u001B[0;36mMySQLConnection._handle_result\u001B[1;34m(self, packet)\u001B[0m\n\u001B[0;32m    393\u001B[0m     \u001B[38;5;28;01mreturn\u001B[39;00m \u001B[38;5;28mself\u001B[39m\u001B[38;5;241m.\u001B[39m_handle_eof(packet)\n\u001B[0;32m    394\u001B[0m \u001B[38;5;28;01melif\u001B[39;00m packet[\u001B[38;5;241m4\u001B[39m] \u001B[38;5;241m==\u001B[39m \u001B[38;5;241m255\u001B[39m:\n\u001B[1;32m--> 395\u001B[0m     \u001B[38;5;28;01mraise\u001B[39;00m errors\u001B[38;5;241m.\u001B[39mget_exception(packet)\n\u001B[0;32m    397\u001B[0m \u001B[38;5;66;03m# We have a text result set\u001B[39;00m\n\u001B[0;32m    398\u001B[0m column_count \u001B[38;5;241m=\u001B[39m \u001B[38;5;28mself\u001B[39m\u001B[38;5;241m.\u001B[39m_protocol\u001B[38;5;241m.\u001B[39mparse_column_count(packet)\n",
      "\u001B[1;31mProgrammingError\u001B[0m: 1064 (42000): You have an error in your SQL syntax; check the manual that corresponds to your MySQL server version for the right syntax to use near '(\n    locusid varchar(255) PRIMARY KEY,\n    dnasource text,\n    dnasequence LONG' at line 2"
     ]
    }
   ],
   "source": [
    "import mysql.connector as SQLC\n",
    "\n",
    "DataBase = SQLC.connect(\n",
    "   host =\"geo.di.uminho.pt\",\n",
    "   user =\"bioinformatica\",\n",
    "   password =\"20221207\",\n",
    "    database =\"bioinformatica\"\n",
    ")\n",
    "Cursor = DataBase.cursor()\n",
    "\n",
    "TableName =\"\"\" DROP TABLE genbank_pg45472_\n",
    "    (\n",
    "    locusid varchar(255) PRIMARY KEY,\n",
    "    dnasource text,\n",
    "    dnasequence LONGTEXT,\n",
    "    prot text,\n",
    "\n",
    "    );\n",
    "\"\"\"\n",
    "\n",
    "Cursor.execute(TableName)\n",
    "\n",
    "#FALTA ADICIONAR O PUBMED"
   ],
   "metadata": {
    "collapsed": false,
    "pycharm": {
     "name": "#%%\n"
    }
   }
  },
  {
   "cell_type": "code",
   "execution_count": 30,
   "metadata": {},
   "outputs": [
    {
     "name": "stdout",
     "output_type": "stream",
     "text": [
      "HIVI5C Human immunodeficiency virus 1 (HIV-1) catccagtacatgcagggcctattgcaccaggccaaatgagagaaccaaggggaagtgacatagcaggaactacaagtacccttcaggaacaagtagcatggatgacaggtaacccacctgttccagtgggagaaatctataaaagatggataattctgggattaaataaaatagtaagaatgtatagccctgtcagcattttggacataaaacaagggccaaaggaaccc AAB50165.1\n",
      "1 record inserted.\n"
     ]
    }
   ],
   "source": [
    "import re\n",
    "import mysql.connector as SQLC\n",
    "\n",
    "fonte = open(\"L42022.1.gb\",'r')\n",
    "# fonte = open(\"L42023.1.gb\",'r')\n",
    "locus = fonte.read()\n",
    "fonte.close()\n",
    "pubmed=''\n",
    "pm = re.search(r'PUBMED\\s+.+', locus)\n",
    "if pm:\n",
    "    m = re.match(r'PUBMED\\s+(.+)', o[0] )\n",
    "    if m:\n",
    "        pubmed = m.group(1)\n",
    "\n",
    "proteina=\"\"\n",
    "p=re.search(r'\\/protein_id=\\\"(\\S+)\\\"',locus)\n",
    "if p:\n",
    "    proteina = p.group(1)\n",
    "\n",
    "id = \"\"\n",
    "i = re.match(r'LOCUS\\s+(\\w+)', locus)\n",
    "if i:\n",
    "    id = i.group(1)\n",
    "organism = \"\"\n",
    "o = re.search(r'SOURCE\\s+.+', locus)\n",
    "if o:\n",
    "    s = re.match(r'SOURCE\\s+(.+)', o[0] )\n",
    "    if s:\n",
    "        organism = s.group(1)\n",
    "sequencia = \"\"\n",
    "existe = re.findall(r'^\\s+\\d+ [actg ]+', locus, re.MULTILINE )\n",
    "if existe:\n",
    "    for linha in existe:\n",
    "        m = re.match( r'\\s+\\d+ (.+)', linha, re.DOTALL )\n",
    "        # print( m.group(1) )\n",
    "        # print( re.sub(r'\\s+', '', m.group(1) ) ) \n",
    "        sequencia = sequencia + re.sub(r'\\s+', '', m.group(1) )\n",
    "print ( id, organism, sequencia, proteina )\n",
    "\n",
    "DataBase = SQLC.connect(\n",
    "    host =\"geo.di.uminho.pt\",\n",
    "    user =\"bioinformatica\",\n",
    "    password =\"20221207\",\n",
    "    database =\"bioinformatica\"\n",
    ")\n",
    "Cursor = DataBase.cursor()\n",
    "\n",
    "sql = \"INSERT INTO genbank_pg45472_ (locusid, dnasource, dnasequence, prot) VALUES (%s, %s, %s, %s)\"\n",
    "val = (id, organism, sequencia, proteina)\n",
    "Cursor.execute(sql, val)\n",
    "\n",
    "DataBase.commit()\n",
    "\n",
    "print(Cursor.rowcount, \"record inserted.\")"
   ]
  },
  {
   "cell_type": "code",
   "execution_count": 37,
   "metadata": {},
   "outputs": [
    {
     "name": "stderr",
     "output_type": "stream",
     "text": [
      "C:\\Users\\maryg\\AppData\\Local\\Temp\\ipykernel_7268\\2465799912.py:10: UserWarning: pandas only supports SQLAlchemy connectable (engine/connection) or database string URI or sqlite3 DBAPI2 connection. Other DBAPI2 objects are not tested. Please consider using SQLAlchemy.\n",
      "  tabela = pd.read_sql(\"SELECT locusid, length(dnasequence) as comprimento FROM genbank_pg45472_\",my_conn)\n"
     ]
    }
   ],
   "source": [
    "import mysql.connector\n",
    "import pandas as pd \n",
    "my_conn = mysql.connector.connect(\n",
    "    host =\"geo.di.uminho.pt\",\n",
    "    user =\"bioinformatica\",\n",
    "    password =\"20221207\",\n",
    "    database =\"bioinformatica\"\n",
    "    )\n",
    "####### end of connection ####\n",
    "tabela = pd.read_sql(\"SELECT locusid, length(dnasequence) as comprimento FROM genbank_pg45472_\",my_conn)\n"
   ]
  },
  {
   "cell_type": "code",
   "execution_count": null,
   "outputs": [],
   "source": [],
   "metadata": {
    "collapsed": false,
    "pycharm": {
     "name": "#%%\n"
    }
   }
  },
  {
   "cell_type": "code",
   "execution_count": 38,
   "metadata": {},
   "outputs": [
    {
     "data": {
      "text/plain": "  locusid  comprimento\n0  HIVI5C          231",
      "text/html": "<div>\n<style scoped>\n    .dataframe tbody tr th:only-of-type {\n        vertical-align: middle;\n    }\n\n    .dataframe tbody tr th {\n        vertical-align: top;\n    }\n\n    .dataframe thead th {\n        text-align: right;\n    }\n</style>\n<table border=\"1\" class=\"dataframe\">\n  <thead>\n    <tr style=\"text-align: right;\">\n      <th></th>\n      <th>locusid</th>\n      <th>comprimento</th>\n    </tr>\n  </thead>\n  <tbody>\n    <tr>\n      <th>0</th>\n      <td>HIVI5C</td>\n      <td>231</td>\n    </tr>\n  </tbody>\n</table>\n</div>"
     },
     "execution_count": 38,
     "metadata": {},
     "output_type": "execute_result"
    }
   ],
   "source": [
    "tabela"
   ]
  },
  {
   "cell_type": "code",
   "execution_count": 10,
   "metadata": {},
   "outputs": [
    {
     "data": {
      "text/plain": "<matplotlib.collections.PathCollection at 0x29112e14cd0>"
     },
     "execution_count": 10,
     "metadata": {},
     "output_type": "execute_result"
    },
    {
     "data": {
      "text/plain": "<Figure size 432x288 with 1 Axes>",
      "image/png": "[encoded data removed]"
     },
     "metadata": {
      "needs_background": "light"
     },
     "output_type": "display_data"
    }
   ],
   "source": [
    "import matplotlib.pyplot as plt\n",
    "\n",
    "x = tabela.locusid\n",
    "y = tabela.comprimento\n",
    "plt.scatter( x, y)"
   ]
  },
  {
   "cell_type": "code",
   "execution_count": null,
   "outputs": [],
   "source": [],
   "metadata": {
    "collapsed": false,
    "pycharm": {
     "name": "#%%\n"
    }
   }
  }
 ],
 "metadata": {
  "kernelspec": {
   "display_name": "Python 3.10.6 64-bit",
   "language": "python",
   "name": "python3"
  },
  "language_info": {
   "codemirror_mode": {
    "name": "ipython",
    "version": 3
   },
   "file_extension": ".py",
   "mimetype": "text/x-python",
   "name": "python",
   "nbconvert_exporter": "python",
   "pygments_lexer": "ipython3",
   "version": "3.10.6"
  },
  "orig_nbformat": 4,
  "vscode": {
   "interpreter": {
    "hash": "916dbcbb3f70747c44a77c7bcd40155683ae19c65e1c03b4aa3499c5328201f1"
   }
  }
 },
 "nbformat": 4,
 "nbformat_minor": 2
}